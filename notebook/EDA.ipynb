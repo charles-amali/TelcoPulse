{
 "cells": [
  {
   "cell_type": "code",
   "execution_count": null,
   "id": "a54a211f-c3ce-4f33-89db-0131922bff85",
   "metadata": {},
   "outputs": [],
   "source": [
    "from pyspark.sql import SparkSession\n",
    "from pyspark.sql.functions import col, avg, count, coalesce, lit, lower"
   ]
  },
  {
   "cell_type": "code",
   "execution_count": 156,
   "id": "e81a2073-d46c-4889-b783-dfbbfcde4096",
   "metadata": {},
   "outputs": [],
   "source": [
    "spark = SparkSession.builder.appName('Telcopulse').getOrCreate()"
   ]
  },
  {
   "cell_type": "code",
   "execution_count": 157,
   "id": "cbccef70-d9c9-4ba9-ac63-e9bc0633f152",
   "metadata": {},
   "outputs": [
    {
     "data": {
      "text/html": [
       "\n",
       "            <div>\n",
       "                <p><b>SparkSession - in-memory</b></p>\n",
       "                \n",
       "        <div>\n",
       "            <p><b>SparkContext</b></p>\n",
       "\n",
       "            <p><a href=\"http://localhost:4040\">Spark UI</a></p>\n",
       "\n",
       "            <dl>\n",
       "              <dt>Version</dt>\n",
       "                <dd><code>v3.5.5</code></dd>\n",
       "              <dt>Master</dt>\n",
       "                <dd><code>local[*]</code></dd>\n",
       "              <dt>AppName</dt>\n",
       "                <dd><code>Telcopulse</code></dd>\n",
       "            </dl>\n",
       "        </div>\n",
       "        \n",
       "            </div>\n",
       "        "
      ],
      "text/plain": [
       "<pyspark.sql.session.SparkSession at 0x110d9c440>"
      ]
     },
     "execution_count": 157,
     "metadata": {},
     "output_type": "execute_result"
    }
   ],
   "source": [
    "SparkSession.active()"
   ]
  },
  {
   "cell_type": "code",
   "execution_count": 158,
   "id": "eccb9557-4d13-4f28-9819-4d32c4b2956c",
   "metadata": {},
   "outputs": [],
   "source": [
    "df = spark.read.csv('mobile-logs.csv',header=True,nullValue='empty_values')"
   ]
  },
  {
   "cell_type": "code",
   "execution_count": 159,
   "id": "7e0ec6bc-1c2e-4765-bbfc-a6fed73a3d24",
   "metadata": {},
   "outputs": [
    {
     "name": "stdout",
     "output_type": "stream",
     "text": [
      "+--------+--------+-------+------+--------+-----------+------+----------------+-----+----------+----------+--------+--------+-----------+\n",
      "|    hour|     lat|   long|signal| network|   operator|status|     description|speed|satellites|precission|provider|activity|postal_code|\n",
      "+--------+--------+-------+------+--------+-----------+------+----------------+-----+----------+----------+--------+--------+-----------+\n",
      "|00:01:16|41.67089|0.53407|     2|vodafone|vodafone ES|     0|STATE_IN_SERVICE|  0.0|       4.0|      51.0|     gps|   STILL|   250236.0|\n",
      "|00:01:47|41.71431|1.77029|     3|vodafone|vodafone ES|     0|STATE_IN_SERVICE|  0.0|       2.0|     128.0|     gps|   STILL|    81786.0|\n",
      "|00:01:59|41.44174|1.86907|    11|  orange|    JAZZTEL|     0|STATE_IN_SERVICE|  0.2|       5.0|      25.0|     gps| TILTING|    80919.0|\n",
      "|00:05:15|41.20896|1.55499|     6|  orange|     Orange|     0|STATE_IN_SERVICE|  0.1|       5.0|      11.0|     gps| TILTING|   431634.0|\n",
      "|00:06:54|41.44159|1.86879|    10|  orange|    JAZZTEL|     0|STATE_IN_SERVICE|  0.3|       3.0|      19.0|     gps| TILTING|    80919.0|\n",
      "+--------+--------+-------+------+--------+-----------+------+----------------+-----+----------+----------+--------+--------+-----------+\n",
      "only showing top 5 rows\n",
      "\n"
     ]
    }
   ],
   "source": [
    "df.show(5)"
   ]
  },
  {
   "cell_type": "code",
   "execution_count": 160,
   "id": "a0bce890-bed3-4c61-90ab-218f3461f69b",
   "metadata": {},
   "outputs": [
    {
     "data": {
      "text/plain": [
       "1000"
      ]
     },
     "execution_count": 160,
     "metadata": {},
     "output_type": "execute_result"
    }
   ],
   "source": [
    "df.count()"
   ]
  },
  {
   "cell_type": "code",
   "execution_count": 161,
   "id": "f5a1c45d-fc95-4ac8-bbb8-e33201386f7a",
   "metadata": {},
   "outputs": [
    {
     "name": "stdout",
     "output_type": "stream",
     "text": [
      "root\n",
      " |-- hour: string (nullable = true)\n",
      " |-- lat: string (nullable = true)\n",
      " |-- long: string (nullable = true)\n",
      " |-- signal: string (nullable = true)\n",
      " |-- network: string (nullable = true)\n",
      " |-- operator: string (nullable = true)\n",
      " |-- status: string (nullable = true)\n",
      " |-- description: string (nullable = true)\n",
      " |-- speed: string (nullable = true)\n",
      " |-- satellites: string (nullable = true)\n",
      " |-- precission: string (nullable = true)\n",
      " |-- provider: string (nullable = true)\n",
      " |-- activity: string (nullable = true)\n",
      " |-- postal_code: string (nullable = true)\n",
      "\n"
     ]
    }
   ],
   "source": [
    "df.printSchema()"
   ]
  },
  {
   "cell_type": "code",
   "execution_count": 162,
   "id": "9e6f21f6-b158-4ed3-ac78-e8b73ab10689",
   "metadata": {},
   "outputs": [
    {
     "data": {
      "text/plain": [
       "DataFrame[summary: string, hour: string, lat: string, long: string, signal: string, network: string, operator: string, status: string, description: string, speed: string, satellites: string, precission: string, provider: string, activity: string, postal_code: string]"
      ]
     },
     "execution_count": 162,
     "metadata": {},
     "output_type": "execute_result"
    }
   ],
   "source": [
    "df.describe()"
   ]
  },
  {
   "cell_type": "code",
   "execution_count": 163,
   "id": "923f9790-2795-44b6-9bb0-130bf6e9fa21",
   "metadata": {},
   "outputs": [
    {
     "data": {
      "text/plain": [
       "[('hour', 'string'),\n",
       " ('lat', 'string'),\n",
       " ('long', 'string'),\n",
       " ('signal', 'string'),\n",
       " ('network', 'string'),\n",
       " ('operator', 'string'),\n",
       " ('status', 'string'),\n",
       " ('description', 'string'),\n",
       " ('speed', 'string'),\n",
       " ('satellites', 'string'),\n",
       " ('precission', 'string'),\n",
       " ('provider', 'string'),\n",
       " ('activity', 'string'),\n",
       " ('postal_code', 'string')]"
      ]
     },
     "execution_count": 163,
     "metadata": {},
     "output_type": "execute_result"
    }
   ],
   "source": [
    "df.dtypes"
   ]
  },
  {
   "cell_type": "code",
   "execution_count": 164,
   "id": "3a249992-ff14-4587-a43e-8fdc8bec3fbd",
   "metadata": {},
   "outputs": [
    {
     "name": "stdout",
     "output_type": "stream",
     "text": [
      "+--------------------+\n",
      "|             network|\n",
      "+--------------------+\n",
      "|                VIVO|\n",
      "|              orange|\n",
      "|            movistar|\n",
      "|               yoigo|\n",
      "|        Eroski Movil|\n",
      "|              GETESA|\n",
      "|            vodafone|\n",
      "|Solo llamadas de ...|\n",
      "|                DTAC|\n",
      "|                NULL|\n",
      "+--------------------+\n",
      "\n"
     ]
    }
   ],
   "source": [
    "network = df.select('network')\n",
    "network.distinct().show()"
   ]
  },
  {
   "cell_type": "code",
   "execution_count": 165,
   "id": "d3fe7e4f-5187-4216-8180-1176f3f7f8ff",
   "metadata": {},
   "outputs": [
    {
     "name": "stdout",
     "output_type": "stream",
     "text": [
      "+--------------------+\n",
      "|            operator|\n",
      "+--------------------+\n",
      "|              Tuenti|\n",
      "|                VIVO|\n",
      "|               Yoigo|\n",
      "|              Orange|\n",
      "|           pepephone|\n",
      "|            movistar|\n",
      "|            Movistar|\n",
      "|        Eroski Movil|\n",
      "|               YOIGO|\n",
      "|              GETESA|\n",
      "|         vodafone ES|\n",
      "|Solo llamadas de ...|\n",
      "|             JAZZTEL|\n",
      "|                RACC|\n",
      "|               simyo|\n",
      "|                DTAC|\n",
      "|                NULL|\n",
      "+--------------------+\n",
      "\n"
     ]
    }
   ],
   "source": [
    "operator = df.select('operator')\n",
    "operator.distinct().show()"
   ]
  },
  {
   "cell_type": "code",
   "execution_count": 166,
   "id": "3f2402fe-8bf2-448a-9a7d-d9bdc2c4fcc3",
   "metadata": {},
   "outputs": [
    {
     "data": {
      "text/plain": [
       "10"
      ]
     },
     "execution_count": 166,
     "metadata": {},
     "output_type": "execute_result"
    }
   ],
   "source": [
    "network.distinct().count()"
   ]
  },
  {
   "cell_type": "code",
   "execution_count": 167,
   "id": "6d66b9d7-0aad-4b80-82a3-725fba1533d1",
   "metadata": {},
   "outputs": [
    {
     "data": {
      "text/plain": [
       "17"
      ]
     },
     "execution_count": 167,
     "metadata": {},
     "output_type": "execute_result"
    }
   ],
   "source": [
    "operator.distinct().count()"
   ]
  },
  {
   "cell_type": "code",
   "execution_count": 168,
   "id": "6ae1c3e5-5f30-4006-a1a6-4c925a08afee",
   "metadata": {},
   "outputs": [
    {
     "name": "stdout",
     "output_type": "stream",
     "text": [
      "+----------+\n",
      "|  activity|\n",
      "+----------+\n",
      "|   TILTING|\n",
      "|IN_VEHICLE|\n",
      "|   ON_FOOT|\n",
      "|   UNKNOWN|\n",
      "|     STILL|\n",
      "|ON_BICYCLE|\n",
      "+----------+\n",
      "\n"
     ]
    }
   ],
   "source": [
    "activity = df.select('activity')\n",
    "activity.distinct().show()"
   ]
  },
  {
   "cell_type": "code",
   "execution_count": 169,
   "id": "f8846c2f-5207-4e33-a0c7-58a5848fac64",
   "metadata": {},
   "outputs": [
    {
     "data": {
      "text/plain": [
       "6"
      ]
     },
     "execution_count": 169,
     "metadata": {},
     "output_type": "execute_result"
    }
   ],
   "source": [
    "activity.distinct().count()"
   ]
  },
  {
   "cell_type": "code",
   "execution_count": 170,
   "id": "c6c5715c-1b34-4a50-b5dc-a428cf665299",
   "metadata": {},
   "outputs": [
    {
     "data": {
      "text/plain": [
       "1"
      ]
     },
     "execution_count": 170,
     "metadata": {},
     "output_type": "execute_result"
    }
   ],
   "source": [
    "description = df.select('description')\n",
    "description.distinct().count()"
   ]
  },
  {
   "cell_type": "code",
   "execution_count": 171,
   "id": "eb1618da-6269-4d45-8b5f-185ea87932f1",
   "metadata": {},
   "outputs": [],
   "source": [
    "# Cast necessary columns to numeric types\n",
    "df = df.withColumn(\"signal\", col(\"signal\").cast(\"double\")) \\\n",
    "       .withColumn(\"precission\", col(\"precission\").cast(\"double\"))"
   ]
  },
  {
   "cell_type": "code",
   "execution_count": 172,
   "id": "9acde093-4a3c-45c9-8c86-aac0dfd6c3d6",
   "metadata": {},
   "outputs": [],
   "source": [
    "# KPI 1: Average Signal Strength per Operator\n",
    "avg_signal_per_operator = df.groupBy(\"operator\") \\\n",
    "    .agg(avg(\"signal\").alias(\"avg_signal_strength\"))"
   ]
  },
  {
   "cell_type": "code",
   "execution_count": 173,
   "id": "d1863512-2dc0-4b7c-8942-1d42b6f9594e",
   "metadata": {},
   "outputs": [
    {
     "name": "stdout",
     "output_type": "stream",
     "text": [
      "+--------------------+-------------------+\n",
      "|            operator|avg_signal_strength|\n",
      "+--------------------+-------------------+\n",
      "|              Tuenti|                3.0|\n",
      "|                VIVO|  8.066666666666666|\n",
      "|               Yoigo| 12.169491525423728|\n",
      "|              Orange| 11.774193548387096|\n",
      "|                NULL|               15.0|\n",
      "|           pepephone| 11.785714285714286|\n",
      "|            movistar|            8.46875|\n",
      "|            Movistar|  9.238493723849372|\n",
      "|        Eroski Movil| 11.333333333333334|\n",
      "|               YOIGO| 14.461538461538462|\n",
      "|              GETESA|  17.81081081081081|\n",
      "|         vodafone ES| 12.815217391304348|\n",
      "|Solo llamadas de ...|  17.77777777777778|\n",
      "|             JAZZTEL| 11.044444444444444|\n",
      "|                RACC|                6.5|\n",
      "|               simyo|               31.5|\n",
      "|                DTAC| 10.932203389830509|\n",
      "+--------------------+-------------------+\n",
      "\n"
     ]
    }
   ],
   "source": [
    "avg_signal_per_operator.show()"
   ]
  },
  {
   "cell_type": "code",
   "execution_count": null,
   "id": "376a599d-fb5c-4dde-9715-81134b00771e",
   "metadata": {},
   "outputs": [],
   "source": [
    "avg_precision_per_operator = df.filter(col(\"provider\") == \"gps\") \\\n",
    "    .withColumn(\"operator_lower\", lower(col(\"operator\"))) \\\n",
    "    .groupBy(\"operator_lower\") \\\n",
    "    .agg(avg(\"precission\").alias(\"avg_gps_precision\"))"
   ]
  },
  {
   "cell_type": "code",
   "execution_count": 175,
   "id": "99b93296-5ae7-4152-8ab2-22f2f6b81dcc",
   "metadata": {},
   "outputs": [
    {
     "name": "stdout",
     "output_type": "stream",
     "text": [
      "+--------------------+------------------+\n",
      "|            operator| avg_gps_precision|\n",
      "+--------------------+------------------+\n",
      "|              Tuenti|              68.4|\n",
      "|                VIVO|13.011111111111111|\n",
      "|               Yoigo|11.728813559322035|\n",
      "|              Orange| 34.69032258064516|\n",
      "|                NULL|              24.0|\n",
      "|           pepephone| 34.07142857142857|\n",
      "|            movistar|          22.40625|\n",
      "|            Movistar| 24.96652719665272|\n",
      "|        Eroski Movil|14.666666666666666|\n",
      "|               YOIGO| 44.38461538461539|\n",
      "|              GETESA| 18.22972972972973|\n",
      "|         vodafone ES|31.679347826086957|\n",
      "|Solo llamadas de ...|17.333333333333332|\n",
      "|             JAZZTEL| 18.77777777777778|\n",
      "|                RACC|            22.625|\n",
      "|               simyo|              24.5|\n",
      "|                DTAC|17.203389830508474|\n",
      "+--------------------+------------------+\n",
      "\n"
     ]
    }
   ],
   "source": [
    "avg_precision_per_operator.show()"
   ]
  },
  {
   "cell_type": "code",
   "execution_count": 176,
   "id": "9db87a84-31cf-4482-8e1c-466fb06fecb4",
   "metadata": {},
   "outputs": [],
   "source": [
    "status_count_per_postal = df.groupBy(\"postal_code\", \"status\") \\\n",
    "    .agg(count(\"*\").alias(\"status_count\"))"
   ]
  },
  {
   "cell_type": "code",
   "execution_count": 177,
   "id": "6d6bdcd2-1b01-4eef-8507-9a0ad6114a69",
   "metadata": {},
   "outputs": [
    {
     "name": "stdout",
     "output_type": "stream",
     "text": [
      "+-----------+------+------------+\n",
      "|postal_code|status|status_count|\n",
      "+-----------+------+------------+\n",
      "|   171674.0|     0|           6|\n",
      "|   170464.0|     0|           1|\n",
      "|    80039.0|     0|          10|\n",
      "|    82346.0|     0|           3|\n",
      "|    80863.0|     0|          14|\n",
      "|   431690.0|     0|           4|\n",
      "|    82704.0|     0|           3|\n",
      "|    81043.0|     0|           6|\n",
      "|   172076.0|     0|           1|\n",
      "|   170237.0|     0|           4|\n",
      "|    81022.0|     0|          14|\n",
      "|    80569.0|     0|           8|\n",
      "|    82114.0|     0|           4|\n",
      "|   172214.0|     0|          15|\n",
      "|   439076.0|     0|           6|\n",
      "|    81477.0|     0|           3|\n",
      "|    80351.0|     0|           1|\n",
      "|    81458.0|     0|           1|\n",
      "|    80752.0|     0|          17|\n",
      "|    81234.0|     0|           4|\n",
      "+-----------+------+------------+\n",
      "only showing top 20 rows\n",
      "\n"
     ]
    }
   ],
   "source": [
    "status_count_per_postal.show()"
   ]
  },
  {
   "cell_type": "code",
   "execution_count": 178,
   "id": "19aad059-7a2a-4689-9211-eb7f96cb8531",
   "metadata": {},
   "outputs": [],
   "source": [
    "# Join KPI 1 and KPI 2 on 'operator'\n",
    "kpi_operator = avg_signal_per_operator.join(\n",
    "    avg_precision_per_operator, on=\"operator\", how=\"inner\"\n",
    ")"
   ]
  },
  {
   "cell_type": "code",
   "execution_count": 179,
   "id": "08321fd1-e9e2-491e-ac07-1df8203d647d",
   "metadata": {},
   "outputs": [
    {
     "name": "stdout",
     "output_type": "stream",
     "text": [
      "+--------------------+-------------------+------------------+\n",
      "|            operator|avg_signal_strength| avg_gps_precision|\n",
      "+--------------------+-------------------+------------------+\n",
      "|              Tuenti|                3.0|              68.4|\n",
      "|                VIVO|  8.066666666666666|13.011111111111111|\n",
      "|               Yoigo| 12.169491525423728|11.728813559322035|\n",
      "|              Orange| 11.774193548387096| 34.69032258064516|\n",
      "|           pepephone| 11.785714285714286| 34.07142857142857|\n",
      "|            movistar|            8.46875|          22.40625|\n",
      "|            Movistar|  9.238493723849372| 24.96652719665272|\n",
      "|        Eroski Movil| 11.333333333333334|14.666666666666666|\n",
      "|               YOIGO| 14.461538461538462| 44.38461538461539|\n",
      "|              GETESA|  17.81081081081081| 18.22972972972973|\n",
      "|         vodafone ES| 12.815217391304348|31.679347826086957|\n",
      "|Solo llamadas de ...|  17.77777777777778|17.333333333333332|\n",
      "|             JAZZTEL| 11.044444444444444| 18.77777777777778|\n",
      "|                RACC|                6.5|            22.625|\n",
      "|               simyo|               31.5|              24.5|\n",
      "|                DTAC| 10.932203389830509|17.203389830508474|\n",
      "+--------------------+-------------------+------------------+\n",
      "\n"
     ]
    }
   ],
   "source": [
    "kpi_operator.show()"
   ]
  },
  {
   "cell_type": "code",
   "execution_count": null,
   "id": "251b7170-139a-4ebb-8b22-b151ec8ba6b9",
   "metadata": {},
   "outputs": [],
   "source": []
  },
  {
   "cell_type": "code",
   "execution_count": null,
   "id": "d921ae23-21f0-44ec-bd25-c1fe7bc54b06",
   "metadata": {},
   "outputs": [],
   "source": []
  },
  {
   "cell_type": "code",
   "execution_count": null,
   "id": "219551ef-b22d-48da-a4fc-b82d5a19465d",
   "metadata": {},
   "outputs": [],
   "source": []
  },
  {
   "cell_type": "code",
   "execution_count": null,
   "id": "134c4be8-5ec4-4a7b-b026-721dc1e896d2",
   "metadata": {},
   "outputs": [],
   "source": []
  },
  {
   "cell_type": "code",
   "execution_count": null,
   "id": "35f3719d-678f-4d24-8445-e2d1f0866a08",
   "metadata": {},
   "outputs": [],
   "source": []
  },
  {
   "cell_type": "code",
   "execution_count": null,
   "id": "b69bed0f-4909-4b2c-8eb7-085ceee87ae8",
   "metadata": {},
   "outputs": [],
   "source": []
  },
  {
   "cell_type": "code",
   "execution_count": null,
   "id": "bca464b1-3ad9-45a5-8e70-db61e39ee46a",
   "metadata": {},
   "outputs": [],
   "source": []
  }
 ],
 "metadata": {
  "kernelspec": {
   "display_name": "Python 3 (ipykernel)",
   "language": "python",
   "name": "python3"
  },
  "language_info": {
   "codemirror_mode": {
    "name": "ipython",
    "version": 3
   },
   "file_extension": ".py",
   "mimetype": "text/x-python",
   "name": "python",
   "nbconvert_exporter": "python",
   "pygments_lexer": "ipython3",
   "version": "3.13.3"
  }
 },
 "nbformat": 4,
 "nbformat_minor": 5
}
